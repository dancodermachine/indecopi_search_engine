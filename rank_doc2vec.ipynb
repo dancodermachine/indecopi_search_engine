{
 "cells": [
  {
   "cell_type": "markdown",
   "id": "fd40cdc4",
   "metadata": {},
   "source": [
    "# Title: INDECOPI Search Engine Using NLP\n",
    "## Using Doc2Vec"
   ]
  },
  {
   "cell_type": "code",
   "execution_count": 31,
   "id": "611f7d6d",
   "metadata": {},
   "outputs": [],
   "source": [
    "__author__ = 'Daniel Villanueva'\n",
    "__email__ = '2144810@brunel.ac.uk'\n",
    "__website__ = 'https://www.linkedin.com/in/danielvillanuevanunez/'\n",
    "__copyright__ = 'Copyright 2022, Daniel Villanueva'"
   ]
  },
  {
   "cell_type": "markdown",
   "id": "a2a9a37d",
   "metadata": {},
   "source": [
    "## 2. Necessary Libraries"
   ]
  },
  {
   "cell_type": "code",
   "execution_count": 6,
   "id": "f782626d",
   "metadata": {},
   "outputs": [],
   "source": [
    "import pandas as pd\n",
    "import numpy as np\n",
    "import pdfplumber\n",
    "import pickle\n",
    "import string\n",
    "import os\n",
    "\n",
    "import nltk\n",
    "from nltk.tokenize import word_tokenize\n",
    "\n",
    "from gensim.models.doc2vec import Doc2Vec, TaggedDocument"
   ]
  },
  {
   "cell_type": "markdown",
   "id": "21ecb465",
   "metadata": {},
   "source": [
    "## 3. Cleaning & Building The Doc2Vec Model"
   ]
  },
  {
   "cell_type": "code",
   "execution_count": 33,
   "id": "0f534cae",
   "metadata": {},
   "outputs": [],
   "source": [
    "# Extracting directory of the \"resoluciones\"\n",
    "resoluciones = [\"resoluciones/\" + filename for filename in os.listdir(\"resoluciones/\")]\n",
    "\n",
    "# List of stopwords in Spanish.\n",
    "stopword_es = nltk.corpus.stopwords.words('spanish')\n",
    "# Add the \"\\n\" in the list.\n",
    "stopword_es.append(\"\\n\")\n",
    "stopword_es.append(\"-\")\n",
    "# List of punctuations such as \".\", \",\". \"\\\".\n",
    "punctuation = [punct for punct in string.punctuation]\n",
    "# Combine both lists into only one.\n",
    "undesirable_values = punctuation + stopword_es"
   ]
  },
  {
   "cell_type": "code",
   "execution_count": 34,
   "id": "3ce55799",
   "metadata": {},
   "outputs": [],
   "source": [
    "def pdf_to_text(list_resoluciones):\n",
    "    \"\"\" This function converts the pdfs to text.  \n",
    "    Args:\n",
    "        * list_resoluciones (list): this list contains the relative location of the files. \n",
    "    Returns:\n",
    "        * corpus (list): this list contains the string version of the pdfs.\n",
    "    \"\"\"\n",
    "    # Empty list where documents will be stored.\n",
    "    corpus = []\n",
    "    # Iterating over files.\n",
    "    for file in list_resoluciones:\n",
    "        # Open the file.\n",
    "        with pdfplumber.open(file) as pdf:\n",
    "            doc = \"\"\n",
    "            # This loop merges the pages of 1 document into 1 string.\n",
    "            for page in pdf.pages:\n",
    "                doc += page.extract_text()\n",
    "            # Merged doc gets saved in the list.\n",
    "            corpus.append(doc)\n",
    "    return corpus\n",
    "\n",
    "def cleaning_corpus(corpus):\n",
    "    \"\"\" This function cleans the corpus by removing undesirable strings (e.g., \"/\", \".\", \"\\n\") and converts words\n",
    "        into lower cases.\n",
    "    Args:\n",
    "        * corpus(list): list containining the documents that needs to be cleaned.\n",
    "    Returns:\n",
    "        * corpus_clean(list): list containining a list of the words for each document.\n",
    "    \"\"\"\n",
    "    # Empty list where cleaned documents will be stored. \n",
    "    corpus_clean = []\n",
    "    \n",
    "    # Iterating over the corpus\n",
    "    for doc in corpus:\n",
    "        # 1. Removing strings from the document that belong to the undersirable_values list.\n",
    "        # 2. Lower case each word.\n",
    "        doc = [word.lower() for word in word_tokenize(doc) if word not in undesirable_values]       \n",
    "        # Adding the document to the corpus. This is a list of lists -> [[\"hello\", \"eat\"][\"bye\", food\"]]\n",
    "        corpus_clean.append(doc)\n",
    "        \n",
    "    return corpus_clean\n",
    "\n",
    "def tagged_documents(corpus_clean):\n",
    "    \"\"\" This function cleans the corpus a tags them with a number. \n",
    "    Args:\n",
    "        * corpus_clean(list): list containining a list of the words for each document.\n",
    "    \"\"\"\n",
    "    for i, doc in enumerate(corpus_clean):\n",
    "        yield TaggedDocument(doc, [i])"
   ]
  },
  {
   "cell_type": "code",
   "execution_count": 35,
   "id": "21cf8235",
   "metadata": {},
   "outputs": [],
   "source": [
    "corpus = pdf_to_text(resoluciones)\n",
    "clean_corpus = cleaning_corpus(corpus)\n",
    "data_training = list(tagged_documents(clean_corpus))"
   ]
  },
  {
   "cell_type": "code",
   "execution_count": 36,
   "id": "60644ddd",
   "metadata": {},
   "outputs": [],
   "source": [
    "# Build model with each document of vector size 1000\n",
    "model = Doc2Vec(vector_size=1000, min_count=1, epochs=50)\n",
    "model.build_vocab(data_training)\n",
    "model.train(data_training, total_examples = model.corpus_count, epochs=model.epochs)\n",
    "# Save the model\n",
    "model.save(\"model/indecopi_resoluciones_doc2vec.model\")"
   ]
  },
  {
   "cell_type": "code",
   "execution_count": 37,
   "id": "89db82c2",
   "metadata": {},
   "outputs": [],
   "source": [
    "corpus_vector = [model.dv[i] for i in range(len(model.dv))]"
   ]
  },
  {
   "cell_type": "code",
   "execution_count": 38,
   "id": "c5cc2059",
   "metadata": {},
   "outputs": [],
   "source": [
    "database = pd.DataFrame(corpus_vector)\n",
    "database[\"resoluciones\"] = resoluciones"
   ]
  },
  {
   "cell_type": "code",
   "execution_count": 39,
   "id": "ea540051",
   "metadata": {},
   "outputs": [],
   "source": [
    "database.to_csv(\"data/resoluciones_doc2vec.csv\", index=False)"
   ]
  },
  {
   "cell_type": "markdown",
   "id": "c15353ee",
   "metadata": {},
   "source": [
    "## 4. Ranking Class"
   ]
  },
  {
   "cell_type": "code",
   "execution_count": 1,
   "id": "6470bdb2",
   "metadata": {},
   "outputs": [],
   "source": [
    "from indesearch import INDESearch\n",
    "import pandas as pd"
   ]
  },
  {
   "cell_type": "code",
   "execution_count": 2,
   "id": "345a2b35",
   "metadata": {},
   "outputs": [],
   "source": [
    "query = \"\"\"no reembolso\"\"\""
   ]
  },
  {
   "cell_type": "code",
   "execution_count": 8,
   "id": "a3893bf1",
   "metadata": {},
   "outputs": [],
   "source": [
    "# Location of the tf-idf model.\n",
    "doc2vec_filename = \"model/indecopi_resoluciones_doc2vec.model\"\n",
    "# Database\n",
    "df_corpus = pd.read_csv(\"data/resoluciones_doc2vec.csv\")\n",
    "# Instantiating the class.\n",
    "query_class = INDESearch(query, top_values = 10, database = df_corpus)\n",
    "# Clean the query.\n",
    "clean_query = query_class.cleaning_query_doc2vec(doc2vec_filename)\n",
    "# Dataframe containing the results\n",
    "result = query_class.similarity(clean_query)"
   ]
  },
  {
   "cell_type": "code",
   "execution_count": 9,
   "id": "93504e14",
   "metadata": {},
   "outputs": [
    {
     "data": {
      "text/html": [
       "<div>\n",
       "<style scoped>\n",
       "    .dataframe tbody tr th:only-of-type {\n",
       "        vertical-align: middle;\n",
       "    }\n",
       "\n",
       "    .dataframe tbody tr th {\n",
       "        vertical-align: top;\n",
       "    }\n",
       "\n",
       "    .dataframe thead th {\n",
       "        text-align: right;\n",
       "    }\n",
       "</style>\n",
       "<table border=\"1\" class=\"dataframe\">\n",
       "  <thead>\n",
       "    <tr style=\"text-align: right;\">\n",
       "      <th></th>\n",
       "      <th>resoluciones</th>\n",
       "      <th>similarity_score</th>\n",
       "    </tr>\n",
       "  </thead>\n",
       "  <tbody>\n",
       "    <tr>\n",
       "      <th>0</th>\n",
       "      <td>resoluciones/doc_202004281556238031.pdf</td>\n",
       "      <td>0.667612</td>\n",
       "    </tr>\n",
       "    <tr>\n",
       "      <th>1</th>\n",
       "      <td>resoluciones/doc_202004281547478711.pdf</td>\n",
       "      <td>0.655933</td>\n",
       "    </tr>\n",
       "    <tr>\n",
       "      <th>2</th>\n",
       "      <td>resoluciones/doc_202004281547471577.pdf</td>\n",
       "      <td>0.649919</td>\n",
       "    </tr>\n",
       "    <tr>\n",
       "      <th>3</th>\n",
       "      <td>resoluciones/doc_202004281540142661.pdf</td>\n",
       "      <td>0.642360</td>\n",
       "    </tr>\n",
       "    <tr>\n",
       "      <th>4</th>\n",
       "      <td>resoluciones/doc_202004281540134017.pdf</td>\n",
       "      <td>0.635256</td>\n",
       "    </tr>\n",
       "    <tr>\n",
       "      <th>5</th>\n",
       "      <td>resoluciones/doc_202004281540145617.pdf</td>\n",
       "      <td>0.634874</td>\n",
       "    </tr>\n",
       "    <tr>\n",
       "      <th>6</th>\n",
       "      <td>resoluciones/doc_202004281540138585.pdf</td>\n",
       "      <td>0.600505</td>\n",
       "    </tr>\n",
       "    <tr>\n",
       "      <th>7</th>\n",
       "      <td>resoluciones/doc_202004290926062486.pdf</td>\n",
       "      <td>0.591984</td>\n",
       "    </tr>\n",
       "    <tr>\n",
       "      <th>8</th>\n",
       "      <td>resoluciones/doc_202004281540131638.pdf</td>\n",
       "      <td>0.550590</td>\n",
       "    </tr>\n",
       "    <tr>\n",
       "      <th>9</th>\n",
       "      <td>resoluciones/doc_202008260017144816.pdf</td>\n",
       "      <td>0.497838</td>\n",
       "    </tr>\n",
       "  </tbody>\n",
       "</table>\n",
       "</div>"
      ],
      "text/plain": [
       "                              resoluciones  similarity_score\n",
       "0  resoluciones/doc_202004281556238031.pdf          0.667612\n",
       "1  resoluciones/doc_202004281547478711.pdf          0.655933\n",
       "2  resoluciones/doc_202004281547471577.pdf          0.649919\n",
       "3  resoluciones/doc_202004281540142661.pdf          0.642360\n",
       "4  resoluciones/doc_202004281540134017.pdf          0.635256\n",
       "5  resoluciones/doc_202004281540145617.pdf          0.634874\n",
       "6  resoluciones/doc_202004281540138585.pdf          0.600505\n",
       "7  resoluciones/doc_202004290926062486.pdf          0.591984\n",
       "8  resoluciones/doc_202004281540131638.pdf          0.550590\n",
       "9  resoluciones/doc_202008260017144816.pdf          0.497838"
      ]
     },
     "execution_count": 9,
     "metadata": {},
     "output_type": "execute_result"
    }
   ],
   "source": [
    "result"
   ]
  },
  {
   "cell_type": "markdown",
   "id": "3cd984bb",
   "metadata": {},
   "source": [
    "## References\n",
    "* https://radimrehurek.com/gensim/models/doc2vec.html\n",
    "* https://www.youtube.com/watch?v=GQbkthBPqV8\n",
    "* https://radimrehurek.com/gensim/models/word2vec.html"
   ]
  },
  {
   "cell_type": "code",
   "execution_count": null,
   "id": "9e89d97c",
   "metadata": {},
   "outputs": [],
   "source": []
  }
 ],
 "metadata": {
  "kernelspec": {
   "display_name": "Python 3 (ipykernel)",
   "language": "python",
   "name": "python3"
  },
  "language_info": {
   "codemirror_mode": {
    "name": "ipython",
    "version": 3
   },
   "file_extension": ".py",
   "mimetype": "text/x-python",
   "name": "python",
   "nbconvert_exporter": "python",
   "pygments_lexer": "ipython3",
   "version": "3.10.2"
  }
 },
 "nbformat": 4,
 "nbformat_minor": 5
}
